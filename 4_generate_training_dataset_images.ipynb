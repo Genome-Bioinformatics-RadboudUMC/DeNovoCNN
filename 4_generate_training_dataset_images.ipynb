{
 "cells": [
  {
   "cell_type": "code",
   "execution_count": 1,
   "metadata": {
    "ExecuteTime": {
     "end_time": "2021-11-01T14:18:54.998502Z",
     "start_time": "2021-11-01T14:18:53.337847Z"
    }
   },
   "outputs": [],
   "source": [
    "import pandas as pd\n",
    "import os\n",
    "import numpy as np\n",
    "\n",
    "import pysam\n",
    "\n",
    "import matplotlib.pyplot as plt\n",
    "\n",
    "from denovonet.dataset import Dataset\n",
    "\n",
    "from contextlib import redirect_stdout"
   ]
  },
  {
   "cell_type": "code",
   "execution_count": 2,
   "metadata": {
    "ExecuteTime": {
     "end_time": "2021-11-01T14:18:55.248764Z",
     "start_time": "2021-11-01T14:18:55.032994Z"
    }
   },
   "outputs": [
    {
     "data": {
      "text/html": [
       "<div>\n",
       "<style scoped>\n",
       "    .dataframe tbody tr th:only-of-type {\n",
       "        vertical-align: middle;\n",
       "    }\n",
       "\n",
       "    .dataframe tbody tr th {\n",
       "        vertical-align: top;\n",
       "    }\n",
       "\n",
       "    .dataframe thead th {\n",
       "        text-align: right;\n",
       "    }\n",
       "</style>\n",
       "<table border=\"1\" class=\"dataframe\">\n",
       "  <thead>\n",
       "    <tr style=\"text-align: right;\">\n",
       "      <th></th>\n",
       "      <th>Chromosome</th>\n",
       "      <th>Start position</th>\n",
       "      <th>End position</th>\n",
       "      <th>Reference</th>\n",
       "      <th>Variant</th>\n",
       "      <th>Variant type</th>\n",
       "      <th>De novo assessment</th>\n",
       "      <th>Child</th>\n",
       "      <th>Father</th>\n",
       "      <th>Mother</th>\n",
       "      <th>Tag</th>\n",
       "      <th>Child_BAM</th>\n",
       "      <th>Father_BAM</th>\n",
       "      <th>Mother_BAM</th>\n",
       "      <th>Dataset</th>\n",
       "    </tr>\n",
       "  </thead>\n",
       "  <tbody>\n",
       "    <tr>\n",
       "      <th>0</th>\n",
       "      <td>chr20</td>\n",
       "      <td>35827028</td>\n",
       "      <td>35827028.0</td>\n",
       "      <td></td>\n",
       "      <td>TT</td>\n",
       "      <td>Insertion</td>\n",
       "      <td>PV MV</td>\n",
       "      <td>DNA15-09361B</td>\n",
       "      <td>DNA15-09135B</td>\n",
       "      <td>DNA15-09134B</td>\n",
       "      <td>sampled negative</td>\n",
       "      <td>/ifs/data/diagnostics/bgi/exomes/work/DNA15-09...</td>\n",
       "      <td>/ifs/data/diagnostics/bgi/exomes/work/DNA15-09...</td>\n",
       "      <td>/ifs/data/diagnostics/bgi/exomes/work/DNA15-09...</td>\n",
       "      <td>train</td>\n",
       "    </tr>\n",
       "    <tr>\n",
       "      <th>1</th>\n",
       "      <td>chr3</td>\n",
       "      <td>105412286</td>\n",
       "      <td>105412286.0</td>\n",
       "      <td></td>\n",
       "      <td>TT</td>\n",
       "      <td>Insertion</td>\n",
       "      <td>PV MV</td>\n",
       "      <td>DNA15-09361B</td>\n",
       "      <td>DNA15-09135B</td>\n",
       "      <td>DNA15-09134B</td>\n",
       "      <td>sampled negative</td>\n",
       "      <td>/ifs/data/diagnostics/bgi/exomes/work/DNA15-09...</td>\n",
       "      <td>/ifs/data/diagnostics/bgi/exomes/work/DNA15-09...</td>\n",
       "      <td>/ifs/data/diagnostics/bgi/exomes/work/DNA15-09...</td>\n",
       "      <td>train</td>\n",
       "    </tr>\n",
       "  </tbody>\n",
       "</table>\n",
       "</div>"
      ],
      "text/plain": [
       "  Chromosome  Start position  End position Reference Variant Variant type  \\\n",
       "0      chr20        35827028    35827028.0                TT    Insertion   \n",
       "1       chr3       105412286   105412286.0                TT    Insertion   \n",
       "\n",
       "  De novo assessment         Child        Father        Mother  \\\n",
       "0              PV MV  DNA15-09361B  DNA15-09135B  DNA15-09134B   \n",
       "1              PV MV  DNA15-09361B  DNA15-09135B  DNA15-09134B   \n",
       "\n",
       "                Tag                                          Child_BAM  \\\n",
       "0  sampled negative  /ifs/data/diagnostics/bgi/exomes/work/DNA15-09...   \n",
       "1  sampled negative  /ifs/data/diagnostics/bgi/exomes/work/DNA15-09...   \n",
       "\n",
       "                                          Father_BAM  \\\n",
       "0  /ifs/data/diagnostics/bgi/exomes/work/DNA15-09...   \n",
       "1  /ifs/data/diagnostics/bgi/exomes/work/DNA15-09...   \n",
       "\n",
       "                                          Mother_BAM Dataset  \n",
       "0  /ifs/data/diagnostics/bgi/exomes/work/DNA15-09...   train  \n",
       "1  /ifs/data/diagnostics/bgi/exomes/work/DNA15-09...   train  "
      ]
     },
     "execution_count": 2,
     "metadata": {},
     "output_type": "execute_result"
    }
   ],
   "source": [
    "DATASET_FOLDER = '/ifs/data/research/projects/gelana/denovo_cnn/data/training_dataset'\n",
    "IMAGES_FOLDER = os.path.join(DATASET_FOLDER, 'images')\n",
    "\n",
    "reference_genome_path = '/ifs/data/research/projects/solve_rd/Extra/GRCh37_WithScaffoldsChr/hs37d5.fa.gz'\n",
    "REREFERENCE_GENOME = pysam.FastaFile(reference_genome_path)\n",
    "\n",
    "dataset_path = os.path.join(\n",
    "    DATASET_FOLDER, 'training_dataset.csv'\n",
    ")\n",
    "\n",
    "dataset = pd.read_csv(dataset_path).fillna('')\n",
    "\n",
    "dataset.head(2)"
   ]
  },
  {
   "cell_type": "code",
   "execution_count": 3,
   "metadata": {
    "ExecuteTime": {
     "end_time": "2021-11-01T14:18:55.382627Z",
     "start_time": "2021-11-01T14:18:55.378227Z"
    }
   },
   "outputs": [
    {
     "data": {
      "text/plain": [
       "array(['train', 'val', 'test'], dtype=object)"
      ]
     },
     "execution_count": 3,
     "metadata": {},
     "output_type": "execute_result"
    }
   ],
   "source": [
    "dataset['Dataset'].unique()"
   ]
  },
  {
   "cell_type": "code",
   "execution_count": null,
   "metadata": {
    "ExecuteTime": {
     "start_time": "2021-11-01T14:18:33.423Z"
    }
   },
   "outputs": [],
   "source": [
    "! rm -rf {IMAGES_FOLDER}\n",
    "! mkdir {IMAGES_FOLDER}"
   ]
  },
  {
   "cell_type": "markdown",
   "metadata": {},
   "source": [
    "# Deletions"
   ]
  },
  {
   "cell_type": "code",
   "execution_count": 5,
   "metadata": {
    "ExecuteTime": {
     "end_time": "2021-11-01T11:59:35.434555Z",
     "start_time": "2021-11-01T11:59:34.095984Z"
    }
   },
   "outputs": [],
   "source": [
    "!rm -rf {IMAGES_FOLDER}/deletions\n",
    "\n",
    "!mkdir {IMAGES_FOLDER}/deletions\n",
    "!mkdir {IMAGES_FOLDER}/deletions/train\n",
    "!mkdir {IMAGES_FOLDER}/deletions/val\n",
    "!mkdir {IMAGES_FOLDER}/deletions/train/iv\n",
    "!mkdir {IMAGES_FOLDER}/deletions/train/dnm\n",
    "!mkdir {IMAGES_FOLDER}/deletions/val/iv\n",
    "!mkdir {IMAGES_FOLDER}/deletions/val/dnm"
   ]
  },
  {
   "cell_type": "code",
   "execution_count": 4,
   "metadata": {
    "ExecuteTime": {
     "end_time": "2021-11-01T14:18:59.474053Z",
     "start_time": "2021-11-01T14:18:58.969617Z"
    }
   },
   "outputs": [
    {
     "name": "stdout",
     "output_type": "stream",
     "text": [
      "mkdir: cannot create directory '/ifs/data/research/projects/gelana/denovo_cnn/data/training_dataset/images/deletions/test': File exists\n",
      "mkdir: cannot create directory '/ifs/data/research/projects/gelana/denovo_cnn/data/training_dataset/images/deletions/test/iv': File exists\n",
      "mkdir: cannot create directory '/ifs/data/research/projects/gelana/denovo_cnn/data/training_dataset/images/deletions/test/dnm': File exists\n"
     ]
    }
   ],
   "source": [
    "!mkdir {IMAGES_FOLDER}/deletions/test\n",
    "!mkdir {IMAGES_FOLDER}/deletions/test/iv\n",
    "!mkdir {IMAGES_FOLDER}/deletions/test/dnm"
   ]
  },
  {
   "cell_type": "code",
   "execution_count": 5,
   "metadata": {
    "ExecuteTime": {
     "end_time": "2021-11-01T14:19:02.755070Z",
     "start_time": "2021-11-01T14:19:02.696262Z"
    }
   },
   "outputs": [],
   "source": [
    "DATASET_NAME = 'deletions'\n",
    "\n",
    "train_variants_path = os.path.join(DATASET_FOLDER, 'del_train.csv')\n",
    "\n",
    "val_variants_path = os.path.join(DATASET_FOLDER, 'del_val.csv')\n",
    "\n",
    "test_variants_path = os.path.join(DATASET_FOLDER, 'del_test.csv')\n",
    "\n",
    "\n",
    "dataset[(dataset['Variant type'] == 'Deletion') & \n",
    "       (dataset['Dataset'] == 'train')].to_csv(\n",
    "    train_variants_path, sep='\\t', index=False\n",
    ")\n",
    "\n",
    "dataset[(dataset['Variant type'] == 'Deletion') & \n",
    "       (dataset['Dataset'] == 'val')].to_csv(\n",
    "    val_variants_path, sep='\\t', index=False\n",
    ")\n",
    "\n",
    "dataset[(dataset['Variant type'] == 'Deletion') & \n",
    "       (dataset['Dataset'] == 'test')].to_csv(\n",
    "    test_variants_path, sep='\\t', index=False\n",
    ")"
   ]
  },
  {
   "cell_type": "code",
   "execution_count": 7,
   "metadata": {
    "ExecuteTime": {
     "end_time": "2021-11-01T12:11:29.877015Z",
     "start_time": "2021-11-01T11:59:35.842488Z"
    },
    "scrolled": true
   },
   "outputs": [
    {
     "name": "stdout",
     "output_type": "stream",
     "text": [
      "Building validation dataset based on file /ifs/data/research/projects/gelana/denovo_cnn/data/training_dataset/del_train.csv\n"
     ]
    }
   ],
   "source": [
    "print('Building validation dataset based on file {}'.format(train_variants_path))\n",
    "\n",
    "with open(os.path.join(DATASET_FOLDER, 'del_train_out.log'), 'w') as f:\n",
    "     with redirect_stdout(f):\n",
    "        train_dataset = Dataset(train_variants_path, 'train', REREFERENCE_GENOME)\n",
    "        train_dataset.save_images(IMAGES_FOLDER, DATASET_NAME)"
   ]
  },
  {
   "cell_type": "code",
   "execution_count": 8,
   "metadata": {
    "ExecuteTime": {
     "end_time": "2021-11-01T12:12:43.116876Z",
     "start_time": "2021-11-01T12:11:29.955048Z"
    }
   },
   "outputs": [
    {
     "name": "stdout",
     "output_type": "stream",
     "text": [
      "Building validation dataset based on file /ifs/data/research/projects/gelana/denovo_cnn/data/training_dataset/del_val.csv\n"
     ]
    }
   ],
   "source": [
    "print('Building validation dataset based on file {}'.format(val_variants_path))\n",
    "\n",
    "with open(os.path.join(DATASET_FOLDER, 'del_val_out.log'), 'w') as f:\n",
    "     with redirect_stdout(f):\n",
    "        train_dataset = Dataset(val_variants_path, 'val', REREFERENCE_GENOME)\n",
    "        train_dataset.save_images(IMAGES_FOLDER, DATASET_NAME)"
   ]
  },
  {
   "cell_type": "code",
   "execution_count": 6,
   "metadata": {
    "ExecuteTime": {
     "end_time": "2021-11-01T14:20:23.480856Z",
     "start_time": "2021-11-01T14:19:16.546557Z"
    }
   },
   "outputs": [
    {
     "name": "stdout",
     "output_type": "stream",
     "text": [
      "Building validation dataset based on file /ifs/data/research/projects/gelana/denovo_cnn/data/training_dataset/del_val.csv\n"
     ]
    }
   ],
   "source": [
    "print('Building validation dataset based on file {}'.format(test_variants_path))\n",
    "\n",
    "with open(os.path.join(DATASET_FOLDER, 'del_test_out.log'), 'w') as f:\n",
    "     with redirect_stdout(f):\n",
    "        train_dataset = Dataset(test_variants_path, 'test', REREFERENCE_GENOME)\n",
    "        train_dataset.save_images(IMAGES_FOLDER, DATASET_NAME)"
   ]
  },
  {
   "cell_type": "markdown",
   "metadata": {},
   "source": [
    "# Insertions"
   ]
  },
  {
   "cell_type": "code",
   "execution_count": 10,
   "metadata": {
    "ExecuteTime": {
     "end_time": "2021-11-01T12:13:23.695657Z",
     "start_time": "2021-11-01T12:13:22.321281Z"
    }
   },
   "outputs": [],
   "source": [
    "!rm -rf {IMAGES_FOLDER}/insertions\n",
    "\n",
    "!mkdir {IMAGES_FOLDER}/insertions\n",
    "!mkdir {IMAGES_FOLDER}/insertions/train\n",
    "!mkdir {IMAGES_FOLDER}/insertions/val\n",
    "!mkdir {IMAGES_FOLDER}/insertions/train/iv\n",
    "!mkdir {IMAGES_FOLDER}/insertions/train/dnm\n",
    "!mkdir {IMAGES_FOLDER}/insertions/val/iv\n",
    "!mkdir {IMAGES_FOLDER}/insertions/val/dnm"
   ]
  },
  {
   "cell_type": "code",
   "execution_count": 7,
   "metadata": {
    "ExecuteTime": {
     "end_time": "2021-11-01T14:20:24.107133Z",
     "start_time": "2021-11-01T14:20:23.600098Z"
    }
   },
   "outputs": [],
   "source": [
    "!mkdir {IMAGES_FOLDER}/insertions/test\n",
    "!mkdir {IMAGES_FOLDER}/insertions/test/iv\n",
    "!mkdir {IMAGES_FOLDER}/insertions/test/dnm"
   ]
  },
  {
   "cell_type": "code",
   "execution_count": 8,
   "metadata": {
    "ExecuteTime": {
     "end_time": "2021-11-01T14:20:24.278217Z",
     "start_time": "2021-11-01T14:20:24.223325Z"
    }
   },
   "outputs": [],
   "source": [
    "DATASET_NAME = 'insertions'\n",
    "\n",
    "train_variants_path = os.path.join(DATASET_FOLDER, 'ins_train.csv')\n",
    "\n",
    "val_variants_path = os.path.join(DATASET_FOLDER, 'ins_val.csv')\n",
    "\n",
    "test_variants_path = os.path.join(DATASET_FOLDER, 'ins_test.csv')\n",
    "\n",
    "\n",
    "dataset[(dataset['Variant type'] == 'Insertion') & \n",
    "       (dataset['Dataset'] == 'train')].to_csv(\n",
    "    train_variants_path, sep='\\t', index=False\n",
    ")\n",
    "\n",
    "dataset[(dataset['Variant type'] == 'Insertion') & \n",
    "       (dataset['Dataset'] == 'val')].to_csv(\n",
    "    val_variants_path, sep='\\t', index=False\n",
    ")\n",
    "\n",
    "dataset[(dataset['Variant type'] == 'Insertion') & \n",
    "       (dataset['Dataset'] == 'test')].to_csv(\n",
    "    test_variants_path, sep='\\t', index=False\n",
    ")"
   ]
  },
  {
   "cell_type": "code",
   "execution_count": 12,
   "metadata": {
    "ExecuteTime": {
     "end_time": "2021-11-01T12:22:31.662601Z",
     "start_time": "2021-11-01T12:13:23.906313Z"
    }
   },
   "outputs": [
    {
     "name": "stdout",
     "output_type": "stream",
     "text": [
      "Building validation dataset based on file /ifs/data/research/projects/gelana/denovo_cnn/data/training_dataset/ins_train.csv\n"
     ]
    }
   ],
   "source": [
    "print('Building validation dataset based on file {}'.format(train_variants_path))\n",
    "\n",
    "with open(os.path.join(DATASET_FOLDER, 'ins_train_out.log'), 'w') as f:\n",
    "     with redirect_stdout(f):\n",
    "        train_dataset = Dataset(train_variants_path, 'train', REREFERENCE_GENOME)\n",
    "        train_dataset.save_images(IMAGES_FOLDER, DATASET_NAME)"
   ]
  },
  {
   "cell_type": "code",
   "execution_count": 13,
   "metadata": {
    "ExecuteTime": {
     "end_time": "2021-11-01T12:23:22.669538Z",
     "start_time": "2021-11-01T12:22:31.737977Z"
    },
    "scrolled": true
   },
   "outputs": [
    {
     "name": "stdout",
     "output_type": "stream",
     "text": [
      "Building validation dataset based on file /ifs/data/research/projects/gelana/denovo_cnn/data/training_dataset/ins_val.csv\n"
     ]
    }
   ],
   "source": [
    "print('Building validation dataset based on file {}'.format(val_variants_path))\n",
    "\n",
    "with open(os.path.join(DATASET_FOLDER, 'ins_val_out.log'), 'w') as f:\n",
    "     with redirect_stdout(f):\n",
    "        train_dataset = Dataset(val_variants_path, 'val', REREFERENCE_GENOME)\n",
    "        train_dataset.save_images(IMAGES_FOLDER, DATASET_NAME)"
   ]
  },
  {
   "cell_type": "code",
   "execution_count": 9,
   "metadata": {
    "ExecuteTime": {
     "end_time": "2021-11-01T14:21:15.506391Z",
     "start_time": "2021-11-01T14:20:24.395735Z"
    }
   },
   "outputs": [
    {
     "name": "stdout",
     "output_type": "stream",
     "text": [
      "Building validation dataset based on file /ifs/data/research/projects/gelana/denovo_cnn/data/training_dataset/ins_test.csv\n"
     ]
    }
   ],
   "source": [
    "print('Building validation dataset based on file {}'.format(test_variants_path))\n",
    "\n",
    "with open(os.path.join(DATASET_FOLDER, 'ins_test_out.log'), 'w') as f:\n",
    "     with redirect_stdout(f):\n",
    "        train_dataset = Dataset(test_variants_path, 'test', REREFERENCE_GENOME)\n",
    "        train_dataset.save_images(IMAGES_FOLDER, DATASET_NAME)"
   ]
  },
  {
   "cell_type": "markdown",
   "metadata": {},
   "source": [
    "# SNPs"
   ]
  },
  {
   "cell_type": "code",
   "execution_count": 15,
   "metadata": {
    "ExecuteTime": {
     "end_time": "2021-11-01T12:23:52.103488Z",
     "start_time": "2021-11-01T12:23:50.696092Z"
    }
   },
   "outputs": [],
   "source": [
    "!rm -rf {IMAGES_FOLDER}/snps\n",
    "\n",
    "!mkdir {IMAGES_FOLDER}/snps\n",
    "!mkdir {IMAGES_FOLDER}/snps/train\n",
    "!mkdir {IMAGES_FOLDER}/snps/val\n",
    "!mkdir {IMAGES_FOLDER}/snps/train/iv\n",
    "!mkdir {IMAGES_FOLDER}/snps/train/dnm\n",
    "!mkdir {IMAGES_FOLDER}/snps/val/iv\n",
    "!mkdir {IMAGES_FOLDER}/snps/val/dnm"
   ]
  },
  {
   "cell_type": "code",
   "execution_count": 10,
   "metadata": {
    "ExecuteTime": {
     "end_time": "2021-11-01T14:21:16.129245Z",
     "start_time": "2021-11-01T14:21:15.623601Z"
    }
   },
   "outputs": [],
   "source": [
    "!mkdir {IMAGES_FOLDER}/snps/test\n",
    "!mkdir {IMAGES_FOLDER}/snps/test/iv\n",
    "!mkdir {IMAGES_FOLDER}/snps/test/dnm"
   ]
  },
  {
   "cell_type": "code",
   "execution_count": 11,
   "metadata": {
    "ExecuteTime": {
     "end_time": "2021-11-01T14:21:16.463939Z",
     "start_time": "2021-11-01T14:21:16.256691Z"
    }
   },
   "outputs": [],
   "source": [
    "DATASET_NAME = 'snps'\n",
    "\n",
    "train_variants_path = os.path.join(DATASET_FOLDER, 'snp_train.csv')\n",
    "\n",
    "val_variants_path = os.path.join(DATASET_FOLDER, 'snp_val.csv')\n",
    "\n",
    "test_variants_path = os.path.join(DATASET_FOLDER, 'snp_test.csv')\n",
    "\n",
    "\n",
    "dataset[(dataset['Variant type'] == 'Substitution') & \n",
    "       (dataset['Dataset'] == 'train')].to_csv(\n",
    "    train_variants_path, sep='\\t', index=False\n",
    ")\n",
    "\n",
    "dataset[(dataset['Variant type'] == 'Substitution') & \n",
    "       (dataset['Dataset'] == 'val')].to_csv(\n",
    "    val_variants_path, sep='\\t', index=False\n",
    ")\n",
    "\n",
    "dataset[(dataset['Variant type'] == 'Substitution') & \n",
    "       (dataset['Dataset'] == 'test')].to_csv(\n",
    "    test_variants_path, sep='\\t', index=False\n",
    ")"
   ]
  },
  {
   "cell_type": "code",
   "execution_count": 17,
   "metadata": {
    "ExecuteTime": {
     "end_time": "2021-11-01T13:55:56.824263Z",
     "start_time": "2021-11-01T12:23:52.452208Z"
    }
   },
   "outputs": [
    {
     "name": "stdout",
     "output_type": "stream",
     "text": [
      "Building validation dataset based on file /ifs/data/research/projects/gelana/denovo_cnn/data/training_dataset/snp_train.csv\n"
     ]
    }
   ],
   "source": [
    "print('Building validation dataset based on file {}'.format(train_variants_path))\n",
    "\n",
    "with open(os.path.join(DATASET_FOLDER, 'snp_train_out.log'), 'w') as f:\n",
    "     with redirect_stdout(f):\n",
    "        train_dataset = Dataset(train_variants_path, 'train', REREFERENCE_GENOME)\n",
    "        train_dataset.save_images(IMAGES_FOLDER, DATASET_NAME)"
   ]
  },
  {
   "cell_type": "code",
   "execution_count": 18,
   "metadata": {
    "ExecuteTime": {
     "end_time": "2021-11-01T14:08:03.792276Z",
     "start_time": "2021-11-01T13:55:56.941781Z"
    }
   },
   "outputs": [
    {
     "name": "stdout",
     "output_type": "stream",
     "text": [
      "Building validation dataset based on file /ifs/data/research/projects/gelana/denovo_cnn/data/training_dataset/snp_val.csv\n"
     ]
    }
   ],
   "source": [
    "print('Building validation dataset based on file {}'.format(val_variants_path))\n",
    "\n",
    "with open(os.path.join(DATASET_FOLDER, 'snp_val_out.log'), 'w') as f:\n",
    "     with redirect_stdout(f):\n",
    "        train_dataset = Dataset(val_variants_path, 'val', REREFERENCE_GENOME)\n",
    "        train_dataset.save_images(IMAGES_FOLDER, DATASET_NAME)"
   ]
  },
  {
   "cell_type": "code",
   "execution_count": 12,
   "metadata": {
    "ExecuteTime": {
     "end_time": "2021-11-01T14:34:12.899837Z",
     "start_time": "2021-11-01T14:21:16.585214Z"
    }
   },
   "outputs": [
    {
     "name": "stdout",
     "output_type": "stream",
     "text": [
      "Building validation dataset based on file /ifs/data/research/projects/gelana/denovo_cnn/data/training_dataset/snp_test.csv\n"
     ]
    }
   ],
   "source": [
    "print('Building validation dataset based on file {}'.format(test_variants_path))\n",
    "\n",
    "with open(os.path.join(DATASET_FOLDER, 'snp_test_out.log'), 'w') as f:\n",
    "     with redirect_stdout(f):\n",
    "        train_dataset = Dataset(test_variants_path, 'test', REREFERENCE_GENOME)\n",
    "        train_dataset.save_images(IMAGES_FOLDER, DATASET_NAME)"
   ]
  },
  {
   "cell_type": "markdown",
   "metadata": {},
   "source": [
    "# Picture generated stats"
   ]
  },
  {
   "cell_type": "code",
   "execution_count": 13,
   "metadata": {
    "ExecuteTime": {
     "end_time": "2021-11-01T14:34:13.335052Z",
     "start_time": "2021-11-01T14:34:13.033043Z"
    }
   },
   "outputs": [
    {
     "name": "stdout",
     "output_type": "stream",
     "text": [
      "/ifs/data/research/projects/gelana/denovo_cnn/data/training_dataset/images/insertions/train/iv 556\n",
      "/ifs/data/research/projects/gelana/denovo_cnn/data/training_dataset/images/insertions/train/dnm 644\n",
      "/ifs/data/research/projects/gelana/denovo_cnn/data/training_dataset/images/insertions/val/iv 76\n",
      "/ifs/data/research/projects/gelana/denovo_cnn/data/training_dataset/images/insertions/val/dnm 21\n",
      "/ifs/data/research/projects/gelana/denovo_cnn/data/training_dataset/images/insertions/test/iv 80\n",
      "/ifs/data/research/projects/gelana/denovo_cnn/data/training_dataset/images/insertions/test/dnm 25\n",
      "\n",
      "/ifs/data/research/projects/gelana/denovo_cnn/data/training_dataset/images/deletions/train/iv 733\n",
      "/ifs/data/research/projects/gelana/denovo_cnn/data/training_dataset/images/deletions/train/dnm 656\n",
      "/ifs/data/research/projects/gelana/denovo_cnn/data/training_dataset/images/deletions/val/iv 101\n",
      "/ifs/data/research/projects/gelana/denovo_cnn/data/training_dataset/images/deletions/val/dnm 32\n",
      "/ifs/data/research/projects/gelana/denovo_cnn/data/training_dataset/images/deletions/test/iv 92\n",
      "/ifs/data/research/projects/gelana/denovo_cnn/data/training_dataset/images/deletions/test/dnm 44\n",
      "\n",
      "/ifs/data/research/projects/gelana/denovo_cnn/data/training_dataset/images/snps/train/iv 9564\n",
      "/ifs/data/research/projects/gelana/denovo_cnn/data/training_dataset/images/snps/train/dnm 2346\n",
      "/ifs/data/research/projects/gelana/denovo_cnn/data/training_dataset/images/snps/val/iv 1152\n",
      "/ifs/data/research/projects/gelana/denovo_cnn/data/training_dataset/images/snps/val/dnm 436\n",
      "/ifs/data/research/projects/gelana/denovo_cnn/data/training_dataset/images/snps/test/iv 1144\n",
      "/ifs/data/research/projects/gelana/denovo_cnn/data/training_dataset/images/snps/test/dnm 482\n",
      "\n"
     ]
    }
   ],
   "source": [
    "dataset_names = ['insertions', 'deletions', 'snps']\n",
    "dataset_types = ['train', 'val', 'test']\n",
    "class_types = ['iv', 'dnm']\n",
    "\n",
    "for dataset_name in dataset_names:\n",
    "    for dataset_type in dataset_types:\n",
    "        for class_type in class_types:\n",
    "            path = os.path.join(IMAGES_FOLDER, dataset_name, dataset_type, class_type)\n",
    "            print (path, len(os.listdir(path)))\n",
    "        \n",
    "    print()"
   ]
  },
  {
   "cell_type": "code",
   "execution_count": null,
   "metadata": {},
   "outputs": [],
   "source": []
  }
 ],
 "metadata": {
  "kernelspec": {
   "display_name": "Python (denovo_env)",
   "language": "python",
   "name": "denovo_env"
  },
  "language_info": {
   "codemirror_mode": {
    "name": "ipython",
    "version": 3
   },
   "file_extension": ".py",
   "mimetype": "text/x-python",
   "name": "python",
   "nbconvert_exporter": "python",
   "pygments_lexer": "ipython3",
   "version": "3.7.6"
  },
  "toc": {
   "base_numbering": 1,
   "nav_menu": {},
   "number_sections": true,
   "sideBar": true,
   "skip_h1_title": false,
   "title_cell": "Table of Contents",
   "title_sidebar": "Contents",
   "toc_cell": false,
   "toc_position": {
    "height": "calc(100% - 180px)",
    "left": "10px",
    "top": "150px",
    "width": "165px"
   },
   "toc_section_display": true,
   "toc_window_display": true
  },
  "varInspector": {
   "cols": {
    "lenName": 16,
    "lenType": 16,
    "lenVar": 40
   },
   "kernels_config": {
    "python": {
     "delete_cmd_postfix": "",
     "delete_cmd_prefix": "del ",
     "library": "var_list.py",
     "varRefreshCmd": "print(var_dic_list())"
    },
    "r": {
     "delete_cmd_postfix": ") ",
     "delete_cmd_prefix": "rm(",
     "library": "var_list.r",
     "varRefreshCmd": "cat(var_dic_list()) "
    }
   },
   "position": {
    "height": "421.3999938964844px",
    "left": "1166px",
    "right": "20px",
    "top": "120px",
    "width": "350px"
   },
   "types_to_exclude": [
    "module",
    "function",
    "builtin_function_or_method",
    "instance",
    "_Feature"
   ],
   "window_display": false
  }
 },
 "nbformat": 4,
 "nbformat_minor": 4
}
