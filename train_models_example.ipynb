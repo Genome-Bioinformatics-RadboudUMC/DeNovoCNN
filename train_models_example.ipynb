{
 "cells": [
  {
   "cell_type": "markdown",
   "metadata": {},
   "source": [
    "# Import for train"
   ]
  },
  {
   "cell_type": "code",
   "execution_count": null,
   "metadata": {},
   "outputs": [],
   "source": [
    "import tensorflow as tf\n",
    "\n",
    "import keras\n",
    "from keras.models import load_model\n",
    "\n",
    "import cv2\n",
    "import numpy as np\n",
    "import os\n",
    "import math\n",
    "\n",
    "import matplotlib.pyplot as plt\n",
    "from denovonet.dataset import CustomAugmentation\n",
    "\n",
    "from denovonet.models import train"
   ]
  },
  {
   "cell_type": "markdown",
   "metadata": {},
   "source": [
    "## SNPs"
   ]
  },
  {
   "cell_type": "code",
   "execution_count": null,
   "metadata": {},
   "outputs": [],
   "source": [
    "custom_augmentation = CustomAugmentation(\n",
    "    probability=0.85, \n",
    "    reads_cropping = True, \n",
    "    reads_shuffling = True,\n",
    "    multi_nucleotide_snp = True,\n",
    "    nucleotides_relabeling = True\n",
    ")\n",
    "\n",
    "aug_snp_cfg = {\n",
    "    'brightness_range': [0.3, 1.],\n",
    "    'horizontal_flip': True,\n",
    "    'preprocessing_function': custom_augmentation\n",
    "}"
   ]
  },
  {
   "cell_type": "code",
   "execution_count": null,
   "metadata": {
    "scrolled": true
   },
   "outputs": [],
   "source": [
    "EPOCHS = 45\n",
    "IMAGES_FOLDER = '.../training_dataset'\n",
    "DATASET_NAME = 'snps'\n",
    "output_model_path = '.../models/snps.h5'\n",
    "\n",
    "\n",
    "with tf.device('/GPU:1'):\n",
    "    train(EPOCHS, IMAGES_FOLDER, DATASET_NAME, output_model_path, aug_cfg=aug_snp_cfg)"
   ]
  },
  {
   "cell_type": "markdown",
   "metadata": {},
   "source": [
    "## Deletions"
   ]
  },
  {
   "cell_type": "code",
   "execution_count": null,
   "metadata": {},
   "outputs": [],
   "source": [
    "custom_augmentation = CustomAugmentation(\n",
    "    probability=0.85, \n",
    "    reads_cropping = True, \n",
    "    reads_shuffling = True,\n",
    "    nucleotides_relabeling = True\n",
    ")\n",
    "\n",
    "aug_del_cfg = {\n",
    "    'brightness_range': [0.3, 1.],\n",
    "    'horizontal_flip': True,\n",
    "    'preprocessing_function': custom_augmentation\n",
    "}"
   ]
  },
  {
   "cell_type": "code",
   "execution_count": null,
   "metadata": {
    "scrolled": true
   },
   "outputs": [],
   "source": [
    "EPOCHS = 45\n",
    "IMAGES_FOLDER = '.../training_dataset'\n",
    "DATASET_NAME = 'deletions'\n",
    "output_model_path = '.../models/deletions.h5'\n",
    "snp_model_path = '.../models/snps.h5'\n",
    "\n",
    "with tf.device('/GPU:1'):\n",
    "    train(EPOCHS, IMAGES_FOLDER, DATASET_NAME, output_model_path, \n",
    "          aug_cfg=aug_del_cfg, continue_training=True, input_model_path=snp_model_path)"
   ]
  },
  {
   "cell_type": "markdown",
   "metadata": {},
   "source": [
    "## Insertions"
   ]
  },
  {
   "cell_type": "code",
   "execution_count": null,
   "metadata": {},
   "outputs": [],
   "source": [
    "custom_augmentation = CustomAugmentation(\n",
    "    probability=0.85, \n",
    "    reads_cropping = True, \n",
    "    reads_shuffling = True,\n",
    "    nucleotides_relabeling = True\n",
    ")\n",
    "\n",
    "aug_ins_cfg = {\n",
    "    'brightness_range': [0.3, 1.],\n",
    "    'horizontal_flip': True,\n",
    "    'preprocessing_function': custom_augmentation\n",
    "}"
   ]
  },
  {
   "cell_type": "code",
   "execution_count": null,
   "metadata": {
    "scrolled": true
   },
   "outputs": [],
   "source": [
    "EPOCHS = 45\n",
    "IMAGES_FOLDER = '.../training_dataset'\n",
    "DATASET_NAME = 'insertions'\n",
    "output_model_path = '.../models/insertions.h5'\n",
    "snp_model_path = '.../models/snps.h5'\n",
    "\n",
    "\n",
    "with tf.device('/GPU:1'):\n",
    "    train(EPOCHS, IMAGES_FOLDER, DATASET_NAME, output_model_path, aug_cfg=aug_ins_cfg,\n",
    "         continue_training=True, input_model_path=snp_model_path)"
   ]
  }
 ],
 "metadata": {
  "kernelspec": {
   "display_name": "Python 3",
   "language": "python",
   "name": "python3"
  },
  "language_info": {
   "codemirror_mode": {
    "name": "ipython",
    "version": 3
   },
   "file_extension": ".py",
   "mimetype": "text/x-python",
   "name": "python",
   "nbconvert_exporter": "python",
   "pygments_lexer": "ipython3",
   "version": "3.8.3"
  },
  "toc": {
   "base_numbering": 1,
   "nav_menu": {},
   "number_sections": true,
   "sideBar": true,
   "skip_h1_title": false,
   "title_cell": "Table of Contents",
   "title_sidebar": "Contents",
   "toc_cell": false,
   "toc_position": {
    "height": "calc(100% - 180px)",
    "left": "10px",
    "top": "150px",
    "width": "165px"
   },
   "toc_section_display": true,
   "toc_window_display": true
  }
 },
 "nbformat": 4,
 "nbformat_minor": 4
}
